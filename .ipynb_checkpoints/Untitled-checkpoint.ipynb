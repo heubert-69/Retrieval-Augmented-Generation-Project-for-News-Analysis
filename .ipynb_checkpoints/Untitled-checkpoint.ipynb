{
 "cells": [
  {
   "cell_type": "code",
   "execution_count": 1,
   "id": "9fa4fb72",
   "metadata": {},
   "outputs": [],
   "source": [
    "import pandas as pd\n",
    "import chromadb as cd "
   ]
  },
  {
   "cell_type": "code",
   "execution_count": 2,
   "id": "f812ec77",
   "metadata": {},
   "outputs": [],
   "source": [
    "import os\n",
    "os.environ['KMP_DUPLICATE_LIB_OK'] = 'True'"
   ]
  },
  {
   "cell_type": "code",
   "execution_count": 3,
   "id": "c8e80b31",
   "metadata": {},
   "outputs": [],
   "source": [
    "news = pd.read_csv(\"labelled_newscatcher_dataset.csv\", sep=\";\")"
   ]
  },
  {
   "cell_type": "code",
   "execution_count": 4,
   "id": "f59dd4b0",
   "metadata": {},
   "outputs": [],
   "source": [
    "#fields assigned to the news document\n",
    "max_news = 1000\n",
    "document = 'title'\n",
    "topic = 'topic'\n",
    "subset_news = news.head(max_news)"
   ]
  },
  {
   "cell_type": "code",
   "execution_count": 5,
   "id": "73db2257",
   "metadata": {},
   "outputs": [],
   "source": [
    "chroma_client = cd.PersistentClient()"
   ]
  },
  {
   "cell_type": "code",
   "execution_count": 6,
   "id": "d232aacc",
   "metadata": {},
   "outputs": [],
   "source": [
    "collection_name = \"news_collection\"\n",
    "\n",
    "#checking if the news_collection is unique or not delete the collection\n",
    "if len(chroma_client.list_collections()) > 0 and collection_name in [chroma_client.list_collections()[0].name]:\n",
    "    chroma_client.delete_collection(name=collection_name)\n",
    "\n",
    "collection = chroma_client.create_collection(name=collection_name)"
   ]
  },
  {
   "cell_type": "code",
   "execution_count": 7,
   "id": "d05bdbe6",
   "metadata": {},
   "outputs": [],
   "source": [
    "collection.add(documents=subset_news[document].tolist(), metadatas=[{topic: t} for t in subset_news[topic].tolist()], ids=[f\"id{x}\" for x in range(len(subset_news))],)"
   ]
  },
  {
   "cell_type": "code",
   "execution_count": 8,
   "id": "a830d31e",
   "metadata": {},
   "outputs": [
    {
     "data": {
      "text/plain": [
       "{'ids': [['id173',\n",
       "   'id829',\n",
       "   'id117',\n",
       "   'id535',\n",
       "   'id141',\n",
       "   'id218',\n",
       "   'id390',\n",
       "   'id273',\n",
       "   'id56',\n",
       "   'id900']],\n",
       " 'embeddings': None,\n",
       " 'documents': [['The Legendary Toshiba is Officially Done With Making Laptops',\n",
       "   '3 gaming laptop deals you can’t afford to miss today',\n",
       "   'Lenovo and HP control half of the global laptop market',\n",
       "   'Asus ROG Zephyrus G14 gaming laptop announced in India',\n",
       "   'Acer Swift 3 featuring a 10th-generation Intel Ice Lake CPU, 2K screen, and more launched in India for INR 64999 (US$865)',\n",
       "   \"Apple's Next MacBook Could Be the Cheapest in Company's History\",\n",
       "   \"Features of Huawei's Desktop Computer Revealed\",\n",
       "   'Redmi to launch its first gaming laptop on August 14: Here are all the details',\n",
       "   'Toshiba shuts the lid on laptops after 35 years',\n",
       "   'This is the cheapest Windows PC by a mile and it even has a spare SSD slot']],\n",
       " 'uris': None,\n",
       " 'included': ['metadatas', 'documents', 'distances'],\n",
       " 'data': None,\n",
       " 'metadatas': [[{'topic': 'TECHNOLOGY'},\n",
       "   {'topic': 'TECHNOLOGY'},\n",
       "   {'topic': 'TECHNOLOGY'},\n",
       "   {'topic': 'TECHNOLOGY'},\n",
       "   {'topic': 'TECHNOLOGY'},\n",
       "   {'topic': 'TECHNOLOGY'},\n",
       "   {'topic': 'TECHNOLOGY'},\n",
       "   {'topic': 'TECHNOLOGY'},\n",
       "   {'topic': 'TECHNOLOGY'},\n",
       "   {'topic': 'TECHNOLOGY'}]],\n",
       " 'distances': [[0.8593594431877136,\n",
       "   1.0294400453567505,\n",
       "   1.0793331861495972,\n",
       "   1.093001127243042,\n",
       "   1.1329681873321533,\n",
       "   1.2130440473556519,\n",
       "   1.214331865310669,\n",
       "   1.2164140939712524,\n",
       "   1.2220635414123535,\n",
       "   1.2754170894622803]]}"
      ]
     },
     "execution_count": 8,
     "metadata": {},
     "output_type": "execute_result"
    }
   ],
   "source": [
    "res = collection.query(query_texts=[\"laptop\"], n_results=10)\n",
    "res"
   ]
  },
  {
   "cell_type": "code",
   "execution_count": null,
   "id": "5cf40ca7",
   "metadata": {},
   "outputs": [],
   "source": [
    "from transformers import AutoTokenizer, AutoModelForCausalLM, pipeline\n",
    "#picking minillama as a huggingface model that is directly from the alpha LLM (from llama)\n",
    "\n",
    "model_id = \"TinyLlama/TinyLlama-1.1B-Chat-v1.0\"\n",
    "tokenizer = AutoTokenizer.from_pretrained(model_id)\n",
    "lm_model = AutoModelForCausalLM.from_pretrained(model_id, trust_remote_code=True)"
   ]
  },
  {
   "cell_type": "code",
   "execution_count": null,
   "id": "bd8ac386",
   "metadata": {},
   "outputs": [],
   "source": [
    "pipe = pipeline(\n",
    "    \"text_generation\",\n",
    "    model=lm_model,\n",
    "    tokenizer=tokenizer,\n",
    "    max_new_tokens=256,\n",
    "    device_map=auto,\n",
    ")"
   ]
  },
  {
   "cell_type": "code",
   "execution_count": null,
   "id": "ef7a2f19",
   "metadata": {},
   "outputs": [],
   "source": [
    "#constructing text prompt\n",
    "question = \"Can This Laptop be toshiba?\"\n",
    "context = \"\".join([f\"#{str(i)}\" for i in results[\"documents\"][0]])\n",
    "\n",
    "#context = context[0:5120]\n",
    "prompt_template = f\"\"\n",
    "relevant_context = {context}\n"
   ]
  }
 ],
 "metadata": {
  "kernelspec": {
   "display_name": "Python 3 (ipykernel)",
   "language": "python",
   "name": "python3"
  },
  "language_info": {
   "codemirror_mode": {
    "name": "ipython",
    "version": 3
   },
   "file_extension": ".py",
   "mimetype": "text/x-python",
   "name": "python",
   "nbconvert_exporter": "python",
   "pygments_lexer": "ipython3",
   "version": "3.12.3"
  }
 },
 "nbformat": 4,
 "nbformat_minor": 5
}
