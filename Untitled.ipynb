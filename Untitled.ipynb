{
 "cells": [
  {
   "cell_type": "code",
   "execution_count": 1,
   "id": "9fa4fb72",
   "metadata": {},
   "outputs": [],
   "source": [
    "import pandas as pd\n",
    "import chromadb as cd "
   ]
  },
  {
   "cell_type": "code",
   "execution_count": 2,
   "id": "f812ec77",
   "metadata": {},
   "outputs": [],
   "source": [
    "import os\n",
    "os.environ['KMP_DUPLICATE_LIB_OK'] = 'True'"
   ]
  },
  {
   "cell_type": "code",
   "execution_count": 3,
   "id": "c8e80b31",
   "metadata": {},
   "outputs": [],
   "source": [
    "news = pd.read_csv(\"labelled_newscatcher_dataset.csv\", sep=\";\")"
   ]
  },
  {
   "cell_type": "code",
   "execution_count": 4,
   "id": "f59dd4b0",
   "metadata": {},
   "outputs": [],
   "source": [
    "#fields assigned to the news document\n",
    "max_news = 1000\n",
    "document = 'title'\n",
    "topic = 'topic'\n",
    "subset_news = news.head(max_news)"
   ]
  },
  {
   "cell_type": "code",
   "execution_count": 5,
   "id": "73db2257",
   "metadata": {},
   "outputs": [],
   "source": [
    "chroma_client = cd.PersistentClient()"
   ]
  },
  {
   "cell_type": "code",
   "execution_count": 6,
   "id": "d232aacc",
   "metadata": {},
   "outputs": [],
   "source": [
    "collection_name = \"news_collection\"\n",
    "\n",
    "#checking if the news_collection is unique or not delete the collection\n",
    "if len(chroma_client.list_collections()) > 0 and collection_name in [chroma_client.list_collections()[0].name]:\n",
    "    chroma_client.delete_collection(name=collection_name)\n",
    "\n",
    "collection = chroma_client.create_collection(name=collection_name)"
   ]
  },
  {
   "cell_type": "code",
   "execution_count": null,
   "id": "d05bdbe6",
   "metadata": {},
   "outputs": [],
   "source": [
    "collection.add(documents=subset_news[document].tolist(), metadatas=[{topic: t} for t in subset_news[topic].tolist()], ids=[f\"id{x}\" for x in range(len(subset_news))],)"
   ]
  },
  {
   "cell_type": "code",
   "execution_count": null,
   "id": "a830d31e",
   "metadata": {},
   "outputs": [],
   "source": [
    "res = collection.query(query_texts=[\"laptop\"], n_results=10)\n",
    "res"
   ]
  },
  {
   "cell_type": "code",
   "execution_count": null,
   "id": "5cf40ca7",
   "metadata": {},
   "outputs": [],
   "source": [
    "from transformers import AutoTokenizer, AutoModelForCausalLM, pipeline\n",
    "#picking minillama as a huggingface model that is directly from the alpha LLM (from llama)\n",
    "\n",
    "model_id = \"TinyLlama/TinyLlama-1.1B-Chat-v1.0\"\n",
    "tokenizer = AutoTokenizer.from_pretrained(model_id)\n",
    "lm_model = AutoModelForCausalLM.from_pretrained(model_id, trust_remote_code=True)"
   ]
  },
  {
   "cell_type": "code",
   "execution_count": null,
   "id": "bd8ac386",
   "metadata": {},
   "outputs": [],
   "source": [
    "pipe = pipeline(\n",
    "    \"text_generation\",\n",
    "    model=lm_model,\n",
    "    tokenizer=tokenizer,\n",
    "    max_new_tokens=256,\n",
    "    device_map=auto,\n",
    ")"
   ]
  },
  {
   "cell_type": "code",
   "execution_count": null,
   "id": "ef7a2f19",
   "metadata": {},
   "outputs": [],
   "source": [
    "#constructing text prompt\n",
    "question = \"Can This Laptop be toshiba?\"\n",
    "context = \"\".join([f\"#{str(i)}\" for i in results[\"documents\"][0]])\n",
    "\n",
    "#context = context[0:5120]\n",
    "prompt_template = f\"\"\n",
    "relevant_context = {context}\n"
   ]
  },
  {
   "cell_type": "code",
   "execution_count": null,
   "id": "01af9caa",
   "metadata": {},
   "outputs": [],
   "source": []
  }
 ],
 "metadata": {
  "kernelspec": {
   "display_name": "Python 3 (ipykernel)",
   "language": "python",
   "name": "python3"
  },
  "language_info": {
   "codemirror_mode": {
    "name": "ipython",
    "version": 3
   },
   "file_extension": ".py",
   "mimetype": "text/x-python",
   "name": "python",
   "nbconvert_exporter": "python",
   "pygments_lexer": "ipython3",
   "version": "3.12.3"
  }
 },
 "nbformat": 4,
 "nbformat_minor": 5
}
